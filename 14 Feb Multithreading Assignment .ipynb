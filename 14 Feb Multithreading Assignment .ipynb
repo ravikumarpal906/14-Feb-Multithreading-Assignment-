{
 "cells": [
  {
   "cell_type": "markdown",
   "id": "3cffd053-500d-41e1-b306-815c5cbb8add",
   "metadata": {},
   "source": [
    "1. What is multithreading in python? Why is it used? Name the module used to handle threads in python"
   ]
  },
  {
   "cell_type": "markdown",
   "id": "b22efde8-35f0-4c41-af7e-39c8c479dd2f",
   "metadata": {},
   "source": [
    "Multithreading in Python refers to the concurrent execution of multiple threads within the same Python program. A thread is the smallest unit of execution within a process, and multithreading allows you to run multiple threads concurrently, enabling you to perform tasks in parallel.\n",
    "\n",
    "Multithreading is used for several purposes in Python:\n",
    "\n",
    "Concurrency: It allows you to run multiple threads concurrently, which is useful when you have tasks that can be executed independently. This can improve the overall performance and responsiveness of your program, especially for I/O-bound and multi-core CPU-bound tasks.\n",
    "\n",
    "Parallelism: Multithreading enables parallel execution of tasks, making use of multiple CPU cores if available. This can lead to significant performance improvements for CPU-bound tasks."
   ]
  },
  {
   "cell_type": "code",
   "execution_count": 1,
   "id": "1e561c7a-6401-4a7c-acee-119fb3f876f8",
   "metadata": {},
   "outputs": [
    {
     "name": "stdout",
     "output_type": "stream",
     "text": [
      "Number 1\n",
      "Number 2\n",
      "Number 3\n",
      "Number 4\n",
      "Number 5\n",
      "Letter a\n",
      "Letter b\n",
      "Letter c\n",
      "Letter d\n",
      "Letter e\n",
      "Both threads have finished.\n"
     ]
    }
   ],
   "source": [
    "import threading\n",
    "\n",
    "def print_numbers():\n",
    "    for i in range(1, 6):\n",
    "        print(f\"Number {i}\")\n",
    "\n",
    "def print_letters():\n",
    "    for letter in 'abcde':\n",
    "        print(f\"Letter {letter}\")\n",
    "\n",
    "# Create two threads\n",
    "thread1 = threading.Thread(target=print_numbers)\n",
    "thread2 = threading.Thread(target=print_letters)\n",
    "\n",
    "# Start the threads\n",
    "thread1.start()\n",
    "thread2.start()\n",
    "\n",
    "# Wait for both threads to finish\n",
    "thread1.join()\n",
    "thread2.join()\n",
    "\n",
    "print(\"Both threads have finished.\")"
   ]
  },
  {
   "cell_type": "markdown",
   "id": "919e30e0-3fbc-4911-8dfa-c52d99aee0a1",
   "metadata": {},
   "source": [
    "2. why threading module used? write the use of the following functions\n",
    "     1. activeCount\n",
    "     2. currentThread\n",
    "     3. enumerate)"
   ]
  },
  {
   "cell_type": "markdown",
   "id": "ab426f1a-ae2b-4f79-ac0a-dbb0c3df3407",
   "metadata": {},
   "source": [
    "The threading module in Python is used for working with threads to achieve parallelism and concurrency in a Python program. \n",
    "\n",
    "activeCount():\n",
    "\n",
    "threading.activeCount()\n",
    "This function returns the number of Thread objects currently alive (either started or not terminated) in the current Python process. It is useful for monitoring the number of active threads in your program.\n",
    " \n",
    " \n",
    "currentThread():\n",
    "\n",
    "threading.currentThread()\n",
    "This function returns the current Thread object corresponding to the caller's thread of execution. It allows you to access information about the currently executing thread, such as its name, ID, and other attributes.\n",
    "\n",
    "\n",
    "enumerate():\n",
    "\n",
    "threading.enumerate()\n",
    "This function returns a list of all currently active Thread objects in the current Python process. It provides a way to get a list of all threads and inspect their properties.\n"
   ]
  },
  {
   "cell_type": "markdown",
   "id": "d119007f-2073-4ac1-bca3-512fab22acbd",
   "metadata": {},
   "source": [
    "3. Explain the following functions:\n",
    "    1. run\n",
    "    2. start\n",
    "    3. join\n",
    "    4. isAlive)"
   ]
  },
  {
   "cell_type": "code",
   "execution_count": 2,
   "id": "cc62c143-8f49-400d-b1ba-65da2bef7e4e",
   "metadata": {},
   "outputs": [
    {
     "name": "stdout",
     "output_type": "stream",
     "text": [
      "Thread is running\n",
      "Thread is running\n",
      "Thread is done\n",
      "Main thread continues\n"
     ]
    },
    {
     "ename": "AttributeError",
     "evalue": "'Thread' object has no attribute 'isAlive'",
     "output_type": "error",
     "traceback": [
      "\u001b[0;31m---------------------------------------------------------------------------\u001b[0m",
      "\u001b[0;31mAttributeError\u001b[0m                            Traceback (most recent call last)",
      "Cell \u001b[0;32mIn[2], line 72\u001b[0m\n\u001b[1;32m     69\u001b[0m my_thread \u001b[38;5;241m=\u001b[39m threading\u001b[38;5;241m.\u001b[39mThread(target\u001b[38;5;241m=\u001b[39mmy_function)\n\u001b[1;32m     70\u001b[0m my_thread\u001b[38;5;241m.\u001b[39mstart()\n\u001b[0;32m---> 72\u001b[0m \u001b[38;5;28;01mif\u001b[39;00m \u001b[43mmy_thread\u001b[49m\u001b[38;5;241;43m.\u001b[39;49m\u001b[43misAlive\u001b[49m():\n\u001b[1;32m     73\u001b[0m     \u001b[38;5;28mprint\u001b[39m(\u001b[38;5;124m\"\u001b[39m\u001b[38;5;124mThread is still running\u001b[39m\u001b[38;5;124m\"\u001b[39m)\n\u001b[1;32m     74\u001b[0m \u001b[38;5;28;01melse\u001b[39;00m:\n",
      "\u001b[0;31mAttributeError\u001b[0m: 'Thread' object has no attribute 'isAlive'"
     ]
    }
   ],
   "source": [
    "\"\"\"\n",
    "run():\n",
    "This is not a standalone function but rather a method that you can override \n",
    "in a custom thread class. When you create a custom thread class by subclassing\n",
    "threading.Thread, you can define the behavior of the thread in the run() \n",
    "method. The run() method is the entry point for the thread's execution.\n",
    "Example usage:\n",
    "\n",
    "\"\"\"\n",
    "import threading\n",
    "\n",
    "class MyThread(threading.Thread):\n",
    "    def run(self):\n",
    "        # Define the behavior of the thread here\n",
    "        print(\"Thread is running\")\n",
    "\n",
    "# Create and start a thread\n",
    "my_thread = MyThread()\n",
    "my_thread.start()  # This will execute the run() method\n",
    "\n",
    "\"\"\"\n",
    "The start() method is used to start the execution of a thread. When you call \n",
    "start() on a threading.Thread object, it initiates the thread's execution by \n",
    "invoking the run() method (if overridden) in a separate thread of control.\n",
    "Example usage:\n",
    "\n",
    "\"\"\"\n",
    "import threading\n",
    "\n",
    "def my_function():\n",
    "    print(\"Thread is running\")\n",
    "\n",
    "# Create and start a thread using a target function\n",
    "my_thread = threading.Thread(target=my_function)\n",
    "my_thread.start()  # This will execute my_function() in a separate thread\n",
    "\n",
    "\n",
    "'''\n",
    "The join() method is used to block the calling thread (usually the main thread) \n",
    "until the thread on which it's called (the target thread) has finished its \n",
    "execution. If you provide a timeout argument, the join() method will block \n",
    "for at most that many seconds.\n",
    "Example usage:\n",
    "\n",
    "'''\n",
    "import threading\n",
    "import time\n",
    "\n",
    "def my_function():\n",
    "    time.sleep(2)\n",
    "    print(\"Thread is done\")\n",
    "\n",
    "my_thread = threading.Thread(target=my_function)\n",
    "my_thread.start()\n",
    "my_thread.join()  # Block the main thread until my_thread finishes\n",
    "print(\"Main thread continues\")\n",
    "'''\n",
    "The isAlive() method is used to check if a thread is currently active (alive) or\n",
    "has finished its execution. It returns True if the thread is still running, \n",
    "and False if it has completed its execution.\n",
    "Example usage:\n",
    "\n",
    "'''\n",
    "import threading\n",
    "\n",
    "def my_function():\n",
    "    pass\n",
    "\n",
    "my_thread = threading.Thread(target=my_function)\n",
    "my_thread.start()\n",
    "\n",
    "if my_thread.isAlive():\n",
    "    print(\"Thread is still running\")\n",
    "else:\n",
    "    print(\"Thread has finished\")"
   ]
  },
  {
   "cell_type": "markdown",
   "id": "a60dd211-d1dd-4dfb-b936-bbb5c97b5cd5",
   "metadata": {},
   "source": [
    "4. write a python program to create two threads. Thread one must print the list of squares and thread two must print the list of cubes"
   ]
  },
  {
   "cell_type": "code",
   "execution_count": 3,
   "id": "24ffed8b-0582-4a11-bcf0-e2ffc211bb86",
   "metadata": {},
   "outputs": [
    {
     "name": "stdout",
     "output_type": "stream",
     "text": [
      "Square of 1: 1\n",
      "Square of 2: 4\n",
      "Square of 3: 9\n",
      "Square of 4: 16\n",
      "Square of 5: 25\n",
      "Cube of 1: 1\n",
      "Cube of 2: 8\n",
      "Cube of 3: 27\n",
      "Cube of 4: 64\n",
      "Cube of 5: 125\n",
      "Both threads have finished\n"
     ]
    }
   ],
   "source": [
    "import threading\n",
    "\n",
    "# Function to print squares\n",
    "def print_squares():\n",
    "    for i in range(1, 6):\n",
    "        print(f\"Square of {i}: {i * i}\")\n",
    "\n",
    "# Function to print cubes\n",
    "def print_cubes():\n",
    "    for i in range(1, 6):\n",
    "        print(f\"Cube of {i}: {i * i * i}\")\n",
    "\n",
    "# Create two thread objects\n",
    "thread1 = threading.Thread(target=print_squares)\n",
    "thread2 = threading.Thread(target=print_cubes)\n",
    "\n",
    "# Start both threads\n",
    "thread1.start()\n",
    "thread2.start()\n",
    "\n",
    "# Wait for both threads to finish\n",
    "thread1.join()\n",
    "thread2.join()\n",
    "\n",
    "print(\"Both threads have finished\")"
   ]
  },
  {
   "cell_type": "markdown",
   "id": "fbfe4fd8-633c-45e4-bb2b-78a1e328b34d",
   "metadata": {},
   "source": [
    "5. State advantages and disadvantages of multithreading"
   ]
  },
  {
   "cell_type": "markdown",
   "id": "9759ec3b-f13a-4686-915f-7bd3f7f7e91d",
   "metadata": {},
   "source": [
    "Advantages of Multithreading:\n",
    "\n",
    "Improved Performance: One of the primary advantages of multithreading is improved performance. Multithreading allows a program to execute multiple threads concurrently, making better use of available CPU cores. This can lead to faster execution times for certain types of tasks, particularly those that are CPU-bound.\n",
    "\n",
    "Responsiveness: Multithreading can help improve the responsiveness of applications, especially those with graphical user interfaces (GUIs). By separating tasks into different threads, the main (UI) thread remains responsive to user input while background tasks are performed.\n",
    "\n",
    "Resource Sharing: Threads within the same process can easily share data and resources. This can be useful for scenarios where multiple threads need access to a common data structure or resource, such as a database connection or a shared cache.\n",
    "\n",
    "Parallelism: Multithreading is a way to achieve parallelism in a program, allowing different threads to work on different parts of a problem simultaneously. This can be especially valuable for tasks that can be divided into smaller, independent subtasks.\n",
    "\n",
    "Disadvantages of Multithreading:\n",
    "\n",
    "Complexity: Multithreaded programming can introduce complexity and make code harder to write, understand, and debug. Race conditions, deadlocks, and synchronization issues can be challenging to resolve.\n",
    "\n",
    "Synchronization Overhead: To prevent data corruption and ensure thread safety, developers often need to use synchronization mechanisms like locks, semaphores, and condition variables. This synchronization overhead can impact performance and increase code complexity.\n",
    "\n",
    "Resource Intensive: Each thread consumes system resources, including memory for stack space. Creating and managing many threads can lead to increased resource consumption, potentially limiting the scalability of an application.\n",
    "\n",
    "Non-Deterministic Behavior: Multithreaded programs can exhibit non-deterministic behavior due to factors like thread scheduling, which can make debugging and testing more challenging.\n",
    "\n",
    "GIL (Global Interpreter Lock): In CPython (the most commonly used Python interpreter), the Global Interpreter Lock (GIL) restricts the execution of multiple threads in a single process. This can limit the true parallelism that Python threads can achieve, particularly in CPU-bound tasks. However, it's worth noting that the GIL is not present in all Python implementations."
   ]
  },
  {
   "cell_type": "markdown",
   "id": "dd9f4c18-eb39-43fa-a7c9-916a1045db4c",
   "metadata": {},
   "source": [
    "6. Explain deadlocks and race conditions."
   ]
  },
  {
   "cell_type": "markdown",
   "id": "4ecc471e-bc52-4694-8238-783c5f7dde1a",
   "metadata": {},
   "source": [
    "\n",
    "Deadlocks and race conditions are common issues in multithreaded programming. Let's understand each of them:\n",
    "\n",
    "1. Deadlock:\n",
    "\n",
    "A deadlock is a situation in which two or more threads or processes are unable to proceed because they are each waiting for the other(s) to release a resource. This leads to a standstill where none of the threads can make progress. Deadlocks can occur in multithreaded programs when the following conditions are met:\n",
    "\n",
    "Mutual Exclusion: At least one resource must be held in a mutually exclusive mode (i.e., only one thread can use it at a time).\n",
    "Hold and Wait: A thread must hold at least one resource and must be waiting to acquire additional resources.\n",
    "No Preemption: Resources cannot be forcibly taken away from a thread; they must be released voluntarily.\n",
    "Circular Wait: A cycle of threads exists, where each thread is waiting for a resource held by the next thread in the cycle.\n",
    "Deadlocks are a critical issue because they can lead to applications becoming unresponsive and require manual intervention to resolve.\n",
    "\n",
    "Example of Deadlock:\n",
    "\n",
    "Imagine two threads, Thread A and Thread B, both need two resources (Resource X and Resource Y). If Thread A acquires Resource X and Thread B acquires Resource Y simultaneously and both try to acquire the other resource, they will enter a deadlock state. Thread A is waiting for Resource Y, which is held by Thread B, and vice versa.\n",
    "\n",
    "2. Race Condition:\n",
    "\n",
    "A race condition occurs when two or more threads or processes access shared data concurrently, and the final outcome depends on the timing or order of execution. In other words, the result of an operation is unpredictable because it depends on which thread executes first. Race conditions can lead to data corruption and unexpected program behavior.\n",
    "\n",
    "Race conditions typically occur when the following conditions are met:\n",
    "\n",
    "Multiple threads access shared data or resources.\n",
    "At least one thread modifies the data.\n",
    "There is no proper synchronization mechanism in place to coordinate access.\n",
    "Example of Race Condition:\n",
    "\n",
    "Consider two threads, Thread A and Thread B, both incrementing a shared variable counter by 1. If there is no synchronization mechanism, both threads may read the current value of counter simultaneously, increment it, and write it back. Depending on the timing, the final value of counter may be incorrect because both threads operated on stale data."
   ]
  },
  {
   "cell_type": "code",
   "execution_count": null,
   "id": "862b3974-4526-401b-94b4-bd8f0abd1c1b",
   "metadata": {},
   "outputs": [],
   "source": []
  }
 ],
 "metadata": {
  "kernelspec": {
   "display_name": "Python 3 (ipykernel)",
   "language": "python",
   "name": "python3"
  },
  "language_info": {
   "codemirror_mode": {
    "name": "ipython",
    "version": 3
   },
   "file_extension": ".py",
   "mimetype": "text/x-python",
   "name": "python",
   "nbconvert_exporter": "python",
   "pygments_lexer": "ipython3",
   "version": "3.10.8"
  }
 },
 "nbformat": 4,
 "nbformat_minor": 5
}
